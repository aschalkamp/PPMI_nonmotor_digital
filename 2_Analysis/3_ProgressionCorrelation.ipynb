{
 "cells": [
  {
   "cell_type": "code",
   "execution_count": 23,
   "metadata": {},
   "outputs": [],
   "source": [
    "import pandas as pd\n",
    "import numpy as np\n",
    "from scipy import stats\n",
    "\n",
    "import seaborn as sns\n",
    "import pylab as plt\n",
    "\n",
    "import sys\n",
    "sys.path.insert(1,'../scripts')\n",
    "import plots"
   ]
  },
  {
   "cell_type": "code",
   "execution_count": 3,
   "metadata": {},
   "outputs": [],
   "source": [
    "ratesPC = pd.read_csv('/scratch/c.c21013066/data/ppmi/analyses/cluster/PC_clinicalbioleddmedasym_digital.csv',index_col=[0])"
   ]
  },
  {
   "cell_type": "code",
   "execution_count": 16,
   "metadata": {},
   "outputs": [],
   "source": [
    "# correlate progression with PCs\n",
    "#first_PC = PC_df.filter(regex='^PC').columns[:10]#[f'{p}_PC_{i}' for i in range(10) for p in predictors]\n",
    "#ratesPC = pd.merge(rates,nona.set_index('participant').filter(regex='PC_'),right_index=True,left_index=True,how='outer')\n",
    "#ratesPC = pd.merge(rates,PC_df.set_index('participant')[first_PC],right_index=True,left_index=True,how='outer')\n",
    "items = ratesPC.filter(regex='_PC$').columns\n",
    "labels = ['autonom','cognitive','daily','medication','motor','psychiatric']\n",
    "filtered_list = [item for item in items if any(term in item for term in labels)]\n",
    "filtered_list = [item for item in filtered_list if 'slope' in item]\n",
    "corr = pd.DataFrame(index=pd.MultiIndex.from_product([filtered_list,ratesPC.filter(regex='^PC').columns[:10]],names=['clinical','digital'])\n",
    "                    ,columns=['pearson r','p-value','N'])\n",
    "for pc in ratesPC.filter(regex='^PC').columns[:10]:\n",
    "    for c in filtered_list:\n",
    "        df = ratesPC.dropna(subset=[pc,c])\n",
    "        r,p = stats.pearsonr(df[c],df[pc])\n",
    "        corr.loc[(c,pc),'pearson r'] = r\n",
    "        corr.loc[(c,pc),'p-value'] = p\n",
    "        corr.loc[(c,pc),'N'] = df.shape[0]\n",
    "        \n",
    "thr = 0.05/((corr[['pearson r']].unstack().astype(float).shape[1]/2))\n",
    "\n",
    "corr['sign'] = corr['p-value']< thr\n",
    "corr['sign'] = corr['sign'].replace([True,False],['*',''])"
   ]
  },
  {
   "cell_type": "code",
   "execution_count": 18,
   "metadata": {},
   "outputs": [],
   "source": [
    "corr.to_csv('/scratch/c.c21013066/data/ppmi/analyses/progression/consensuscohort/correlation_digital_clinical.csv')"
   ]
  }
 ],
 "metadata": {
  "kernelspec": {
   "display_name": "Python 3",
   "language": "python",
   "name": "python3"
  },
  "language_info": {
   "codemirror_mode": {
    "name": "ipython",
    "version": 3
   },
   "file_extension": ".py",
   "mimetype": "text/x-python",
   "name": "python",
   "nbconvert_exporter": "python",
   "pygments_lexer": "ipython3",
   "version": "3.6.8"
  }
 },
 "nbformat": 4,
 "nbformat_minor": 5
}
