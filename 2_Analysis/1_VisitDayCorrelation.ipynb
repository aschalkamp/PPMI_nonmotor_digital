{
 "cells": [
  {
   "cell_type": "code",
   "execution_count": 1,
   "metadata": {},
   "outputs": [],
   "source": [
    "import pandas as pd\n",
    "import numpy as np\n",
    "from scipy import stats\n",
    "\n",
    "import seaborn as sns\n",
    "import pylab as plt\n",
    "from statannot import add_stat_annotation\n",
    "import statsmodels.api as sm\n",
    "from statsmodels.stats.multitest import multipletests\n",
    "\n",
    "\n",
    "import missingno as msn\n",
    "\n",
    "from importlib import reload\n",
    "from functools import reduce\n",
    "import datetime\n",
    "\n",
    "import sys\n",
    "sys.path.insert(1,'../scripts')\n",
    "import plots\n",
    "import utils\n",
    "import _preprocess"
   ]
  },
  {
   "cell_type": "code",
   "execution_count": 2,
   "metadata": {},
   "outputs": [],
   "source": [
    "data_path = '/scratch/c.c21013066/data/ppmi'\n",
    "path = '/scratch/c.c21013066/data/ppmi/accelerometer'\n",
    "image_path = '/scratch/c.c21013066/images/ppmi/studywatch'"
   ]
  },
  {
   "cell_type": "markdown",
   "metadata": {},
   "source": [
    "# Load Data"
   ]
  },
  {
   "cell_type": "code",
   "execution_count": 3,
   "metadata": {},
   "outputs": [],
   "source": [
    "# load clinical scores\n",
    "demo = pd.read_csv(f'{data_path}/phenotypes2023/demographics_clean.csv',parse_dates=['date_birth'])\n",
    "behavior = pd.read_csv(f'{data_path}/phenotypes2023/behavior_clean.csv',parse_dates=['date'])\n",
    "\n",
    "# adjust to fit into bounds\n",
    "behavior.loc[behavior['hvlt_recognition']<0,'hvlt_recognition'] = np.nan\n",
    "behavior.loc[behavior['hvlt_recognition']>12,'hvlt_recognition'] = 12\n",
    "behavior.loc[behavior['benton']>15,'benton'] = 15\n",
    "behavior.loc[behavior['stai_trait']<20,'stai_trait'] = np.nan\n",
    "behavior.loc[behavior['stai_state']<20,'stai_state'] = np.nan\n",
    "behavior['updrs_iii_OFF'] = behavior['updrs_iii_OFF'].fillna(behavior['updrs_iii_NoMED'])\n",
    "behavior = pd.merge(demo[['participant','date_birth']],behavior,on='participant',how='right')\n",
    "behavior = behavior.set_index('date').sort_index().reset_index()\n",
    "behavior = _preprocess.get_visit_age(behavior)\n",
    "behavior = behavior.drop(columns=['date_birth'])\n",
    "\n",
    "# add medication\n",
    "ledd = pd.read_csv(f'{data_path}/phenotypes2023/ledd.csv',parse_dates=['date'],index_col=0)\n",
    "behavior = pd.merge(ledd,behavior,on=['participant','date'],how='outer')\n",
    "\n",
    "# define modalities\n",
    "neuropsychiatric = ['stai_trait','stai_state','gds','quip']\n",
    "cognition = ['semantic_fluency','moca','benton','lns','hvlt_recall','hvlt_recognition','hvlt_retention','symbol_digit']\n",
    "autonome = ['epworth','rbd','systolic_bp_drop','scopa_aut']\n",
    "daily = ['se_adl','updrs_i']\n",
    "motor = ['updrs_ii','updrs_iii_OFF']\n",
    "dat = ['datscan_caudate_l']\n",
    "bio = ['ttau']\n",
    "medication = ['LEDD','updrs_iv','updrs_iii_ON']"
   ]
  },
  {
   "cell_type": "code",
   "execution_count": 4,
   "metadata": {},
   "outputs": [
    {
     "name": "stderr",
     "output_type": "stream",
     "text": [
      "../scripts/utils.py:77: UserWarning: Converting to PeriodArray/Index representation will drop timezone information.\n",
      "  df['date'] = df['time'].dt.to_period('D')\n",
      "../scripts/utils.py:77: UserWarning: Converting to PeriodArray/Index representation will drop timezone information.\n",
      "  df['date'] = df['time'].dt.to_period('D')\n",
      "../scripts/utils.py:77: UserWarning: Converting to PeriodArray/Index representation will drop timezone information.\n",
      "  df['date'] = df['time'].dt.to_period('D')\n",
      "../scripts/utils.py:85: FutureWarning: ['time_local', 'sleep_onset_time_local', 'sleep_offset_time_local', 'time_day'] did not aggregate successfully. If any error is raised this will raise in a future version of pandas. Drop these columns/ops to avoid this warning.\n",
      "  features = df.groupby('subject')[df_raw.columns[5:]].agg(['size','mean','std','max','min'])\n",
      "../scripts/utils.py:77: UserWarning: Converting to PeriodArray/Index representation will drop timezone information.\n",
      "  df['date'] = df['time'].dt.to_period('D')\n",
      "../scripts/utils.py:77: UserWarning: Converting to PeriodArray/Index representation will drop timezone information.\n",
      "  df['date'] = df['time'].dt.to_period('D')\n",
      "../scripts/utils.py:149: FutureWarning: The behavior of indexing on a MultiIndex with a nested sequence of labels is deprecated and will change in a future version. `series.loc[label, sequence]` will raise if any members of 'sequence' or not present in the index's second level. To retain the old behavior, use `series.index.isin(sequence, level=1)`\n",
      "  dfs = [df.loc[(subset,slice(None)),:] for df in dfs]\n",
      "../scripts/utils.py:150: FutureWarning: Passing 'suffixes' which cause duplicate columns {'time_ms_drop', 'date_consensus_drop', 'time_local_drop', 'age_accelerometry_drop', 'diagnosis_drop', 'diagnosis_enroll_drop', 'date_drop', 'date_birth_drop', 'date_diagnosis_drop', 'date_onset_drop', 'Unnamed: 0_drop', 'age_seconds_drop', 'family_history_drop', 'participant_drop', '2nd_degree_relative_drop', 'education_drop', 'status_drop', 'date_local_drop', '1st_degree_relative_drop', 'handedness_drop', 'gender_drop', 'race_drop', 'time_drop', 'time_day_drop', 'date_start_drop', 'age_drop', 'date_enroll_drop', 'time_between_drop'} in the result is deprecated and will raise a MergeError in a future version.\n",
      "  merged = reduce(lambda  left,right: pd.merge(left,right,right_index=True,left_index=True,\n",
      "../scripts/utils.py:150: FutureWarning: Passing 'suffixes' which cause duplicate columns {'time_ms_drop', 'date_consensus_drop', 'time_local_drop', 'age_accelerometry_drop', 'diagnosis_drop', 'diagnosis_enroll_drop', 'date_drop', 'date_birth_drop', 'date_diagnosis_drop', 'date_onset_drop', 'Unnamed: 0_drop', 'age_seconds_drop', 'family_history_drop', 'participant_drop', '2nd_degree_relative_drop', 'education_drop', 'status_drop', 'date_local_drop', '1st_degree_relative_drop', 'handedness_drop', 'gender_drop', 'race_drop', 'time_drop', 'time_day_drop', 'date_start_drop', 'age_drop', 'date_enroll_drop', 'time_between_drop'} in the result is deprecated and will raise a MergeError in a future version.\n",
      "  merged = reduce(lambda  left,right: pd.merge(left,right,right_index=True,left_index=True,\n",
      "../scripts/utils.py:150: FutureWarning: Passing 'suffixes' which cause duplicate columns {'time_ms_drop', 'date_consensus_drop', 'time_local_drop', 'age_accelerometry_drop', 'diagnosis_drop', 'diagnosis_enroll_drop', 'date_drop', 'date_birth_drop', 'date_diagnosis_drop', 'date_onset_drop', 'Unnamed: 0_drop', 'age_seconds_drop', 'family_history_drop', 'participant_drop', '2nd_degree_relative_drop', 'education_drop', 'status_drop', 'date_local_drop', '1st_degree_relative_drop', 'handedness_drop', 'gender_drop', 'race_drop', 'time_drop', 'time_day_drop', 'date_start_drop', 'age_drop', 'date_enroll_drop', 'time_between_drop'} in the result is deprecated and will raise a MergeError in a future version.\n",
      "  merged = reduce(lambda  left,right: pd.merge(left,right,right_index=True,left_index=True,\n"
     ]
    }
   ],
   "source": [
    "# load smartwatch data\n",
    "reload(utils)\n",
    "merged, ambulatory, step, sleep, pulse, pulsevar = utils.load_timeseries(demo,path)\n",
    "\n",
    "subset = demo['participant'].sample(10)\n",
    "timeseries = utils.merge_timeseries([ambulatory, step, sleep, pulse, pulsevar],subset=subset)\n",
    "timeseries = timeseries.reset_index()\n",
    "timeseries = timeseries.drop(columns=['participant']).rename(columns={'subject':'participant'})\n",
    "timeseries = timeseries.set_index('date_local_adj').sort_index().reset_index()"
   ]
  },
  {
   "cell_type": "code",
   "execution_count": 5,
   "metadata": {},
   "outputs": [],
   "source": [
    "# get names of digital outcome measures\n",
    "predictors = timeseries.filter(regex='(walking|step|efficiency|total_sleep|pulse|deep|light|rem|nrem|rmssd|wake)').columns\n",
    "sleep_col = timeseries.filter(regex='(efficiency|total_sleep|deep|light|rem|nrem|wake)').columns\n",
    "phys = timeseries.filter(regex='(walking|step)').columns\n",
    "vital = timeseries.filter(regex='(pulse|rmssd)').columns\n",
    "import re\n",
    "predictors_filt = [a for a in predictors if not re.search('_ms', a)]\n",
    "sleep_col = [a for a in sleep_col if not re.search('_ms', a)]\n",
    "phys = [a for a in phys if not re.search('_ms', a)]\n",
    "vital = [a for a in vital if not re.search('_ms', a)]"
   ]
  },
  {
   "cell_type": "markdown",
   "metadata": {},
   "source": [
    "# Get overlap clinic visit and digital data\n",
    "adjust to get averages for month instead"
   ]
  },
  {
   "cell_type": "code",
   "execution_count": 6,
   "metadata": {},
   "outputs": [],
   "source": [
    "# merge with behavior to timeseries date\n",
    "window = 3.5\n",
    "kind = 'week'\n",
    "reload(utils)\n",
    "ms = []\n",
    "for timeseries in [ambulatory,step,sleep,pulse,pulsevar]:\n",
    "    m = utils.merge_with_behavior(timeseries,behavior,on='timeseries',tolerance=pd.Timedelta(window,'days'))#adjust for other timeframe: 15,3.5\n",
    "    m = m.dropna(subset=np.intersect1d(predictors,timeseries.columns),how='all')\n",
    "    m = m.dropna(subset=np.hstack([motor,daily,cognition,neuropsychiatric,autonome,medication]),how='all')\n",
    "    ms.append(m)\n",
    "    \n",
    "merged = reduce(lambda  left,right: pd.merge(left,right,on=['participant','date_local_adj'],\n",
    "                                            how='outer',suffixes=['','__drop']), ms)\n",
    "merged = merged.dropna(subset=predictors,how='all')\n",
    "merged = merged.drop(columns=merged.filter(regex='__drop'))"
   ]
  },
  {
   "cell_type": "code",
   "execution_count": 8,
   "metadata": {},
   "outputs": [],
   "source": [
    "# clinic visit not representative normal day, so remove it from week around visit\n",
    "dropvisit = merged.groupby('participant').apply(lambda sub: sub.loc[sub['date_local_adj'].dt.date != sub['date_y'],:]).reset_index(drop=True)\n",
    "clinicvisit = merged.groupby('participant').apply(lambda sub: sub.loc[sub['date_local_adj'].dt.date == sub['date_y'],:]).reset_index(drop=True)"
   ]
  },
  {
   "cell_type": "code",
   "execution_count": 20,
   "metadata": {},
   "outputs": [],
   "source": [
    "# compute rolling mean\n",
    "df = dropvisit.copy(deep=True)\n",
    "grouped_mean = df.groupby(['participant','date_y'])[np.hstack([predictors,motor,cognition,neuropsychiatric,autonome,daily,medication,'visit_age'])].mean()\n",
    "\n",
    "merged_pd = df[df['diagnosis']=='pd']\n",
    "# compute rolling mean\n",
    "grouped_mean_pd = merged_pd.groupby(['participant','date_y'])[np.hstack([predictors,motor,cognition,neuropsychiatric,autonome,daily,medication,'visit_age'])].mean()\n",
    "\n",
    "grouped_pd_missing = merged_pd.groupby(['participant','date_y'])[np.hstack([predictors,motor,cognition,neuropsychiatric,autonome,daily,medication,'visit_age'])].count()\n",
    "\n",
    "merged_hc = df[df['diagnosis']=='hc']\n",
    "# compute rolling mean\n",
    "grouped_mean_hc = merged_hc.groupby(['participant','date_y'])[np.hstack([predictors,motor,cognition,neuropsychiatric,autonome,daily,medication,'visit_age'])].mean()"
   ]
  },
  {
   "cell_type": "code",
   "execution_count": 21,
   "metadata": {},
   "outputs": [],
   "source": [
    "# compute amount of missing data\n",
    "grouped_pd_missing = grouped_pd_missing.groupby('participant').last()\n",
    "grouped_pd_missing[predictors_filt] = grouped_pd_missing[predictors_filt].replace([0],np.nan)\n",
    "((100/(24*6)) * ((24*6)-grouped_pd_missing))[predictors_filt].describe().iloc[:2,:].T#.to_csv('/scratch/c.c21013066/data/ppmi/analyses/studywatch/clinicvisit_missingrate_digital.csv')"
   ]
  },
  {
   "cell_type": "code",
   "execution_count": 11,
   "metadata": {},
   "outputs": [],
   "source": [
    "# save digital weekly averages\n",
    "grouped_mean.to_csv(f'/scratch/c.c21013066/data/ppmi/accelerometer/{kind}ly_mean.csv')\n",
    "grouped_mean_pd.to_csv(f'/scratch/c.c21013066/data/ppmi/accelerometer/{kind}ly_mean_pd.csv')"
   ]
  },
  {
   "cell_type": "markdown",
   "metadata": {},
   "source": [
    "# Correlate digital averages with clinical scores"
   ]
  },
  {
   "cell_type": "code",
   "execution_count": 33,
   "metadata": {},
   "outputs": [],
   "source": [
    "grouped_mean_pd_old = pd.read_csv(f'/scratch/c.c21013066/data/ppmi/accelerometer/{kind}ly_mean_pd.csv')"
   ]
  },
  {
   "cell_type": "code",
   "execution_count": 12,
   "metadata": {},
   "outputs": [
    {
     "name": "stdout",
     "output_type": "stream",
     "text": [
      "(92, 44)\n"
     ]
    }
   ],
   "source": [
    "# restrict to one visit per person to avoid overrepresentation\n",
    "grouped_mean_pd = grouped_mean_pd.groupby('participant').last()\n",
    "print(grouped_mean_pd.shape)"
   ]
  },
  {
   "cell_type": "code",
   "execution_count": 15,
   "metadata": {},
   "outputs": [],
   "source": [
    "neuropsychiatric = ['stai_trait','stai_state','gds','quip']\n",
    "cognition = ['semantic_fluency','moca','benton','lns','hvlt_recall','hvlt_recognition','hvlt_retention','symbol_digit']\n",
    "autonome = ['epworth','rbd','systolic_bp_drop','scopa_aut']\n",
    "daily = ['se_adl','updrs_i']\n",
    "motor = ['updrs_ii','updrs_iii_OFF']\n",
    "dat = ['datscan_caudate_l']\n",
    "bio = ['ttau']\n",
    "medication = ['updrs_iii_ON','updrs_iv','LEDD']\n",
    "\n",
    "cl_names = ['Semantic Fluency', 'MOCA', 'Benton',\n",
    "       'Letter Number Sequencing', 'HVLT Recall', 'HVLT Recognition', 'HVLT Retention',\n",
    "       'Symbol Digit', 'STAI trait', 'STAI state', 'GDS', 'QUIP',\n",
    "       'ESS', 'RBDSQ', 'Systolic BP Drop', 'SCOPA autonome',\n",
    "       'Schwab England ADL', 'UPDRS I','UPDRS II','UPDRS III OFF','UPDRS III ON','UPDRS IV', 'LEDD']"
   ]
  },
  {
   "cell_type": "code",
   "execution_count": 16,
   "metadata": {
    "tags": []
   },
   "outputs": [],
   "source": [
    "corr = pd.DataFrame(columns=['N','pearson r','p-value'],index=pd.MultiIndex.from_product([np.hstack([cl_names,predictors_filt]),\n",
    "                                                                                          np.hstack([cl_names,predictors_filt])],\n",
    "                                                                                         names=['f1','f2']))\n",
    "for (i,p),m in zip(enumerate(np.hstack([np.hstack([cognition,neuropsychiatric,autonome,daily,motor,medication]),predictors_filt])),\n",
    "                               np.hstack([cl_names,predictors_filt])):\n",
    "    for (j,u),n in zip(enumerate(np.hstack([np.hstack([cognition,neuropsychiatric,autonome,daily,motor,medication]),predictors_filt])),\n",
    "                               np.hstack([cl_names,predictors_filt])):\n",
    "        if j>i:\n",
    "            try:\n",
    "                dat = grouped_mean_pd.dropna(subset=[p,u])\n",
    "                corr.loc[(m,n),'N'] = dat.shape[0]\n",
    "                r,pval = stats.pearsonr(dat[p],dat[u])\n",
    "                corr.loc[(m,n),'pearson r'] = r\n",
    "                corr.loc[(m,n),'p-value'] = pval\n",
    "            except:\n",
    "                print(u,p)"
   ]
  },
  {
   "cell_type": "code",
   "execution_count": 39,
   "metadata": {},
   "outputs": [],
   "source": [
    "corr.to_csv(f'/scratch/c.c21013066/data/ppmi/analyses/studywatch/corr_clinicaldig_pd_{kind}_lastvisit_allcorr.csv')"
   ]
  }
 ],
 "metadata": {
  "kernelspec": {
   "display_name": "Python 3",
   "language": "python",
   "name": "python3"
  },
  "language_info": {
   "codemirror_mode": {
    "name": "ipython",
    "version": 3
   },
   "file_extension": ".py",
   "mimetype": "text/x-python",
   "name": "python",
   "nbconvert_exporter": "python",
   "pygments_lexer": "ipython3",
   "version": "3.6.8"
  }
 },
 "nbformat": 4,
 "nbformat_minor": 5
}
