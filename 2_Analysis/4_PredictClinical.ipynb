{
 "cells": [
  {
   "cell_type": "code",
   "execution_count": 1,
   "metadata": {},
   "outputs": [],
   "source": [
    "import numpy as np\n",
    "import pandas as pd\n",
    "from scipy import stats\n",
    "\n",
    "import pylab as plt\n",
    "import seaborn as sns\n",
    "\n",
    "from importlib import reload\n",
    "import os\n",
    "import re\n",
    "\n",
    "import sys\n",
    "sys.path.insert(1,'../scripts')\n",
    "import utils\n",
    "import plots\n",
    "import predict_regress"
   ]
  },
  {
   "cell_type": "markdown",
   "metadata": {},
   "source": [
    "# Load Data"
   ]
  },
  {
   "cell_type": "code",
   "execution_count": 3,
   "metadata": {},
   "outputs": [],
   "source": [
    "demo = pd.read_csv('/scratch/c.c21013066/data/ppmi/phenotypes2021/demographics_clean.csv',parse_dates=['date_birth','date_diagnosis'])\n",
    "grouped_mean = pd.read_csv('/scratch/c.c21013066/data/ppmi/accelerometer/weekly_mean.csv',parse_dates=['date_y'])\n",
    "grouped_mean = pd.merge(demo,grouped_mean,on='participant',how='right')\n",
    "grouped_mean = grouped_mean[grouped_mean['diagnosis']=='pd']\n",
    "grouped_mean = grouped_mean.groupby('participant').last()\n",
    "grouped_mean['diagnosis_age'] = (grouped_mean['date_diagnosis'] - grouped_mean['date_birth'] ) / np.timedelta64(1,'Y')\n",
    "grouped_mean['time_since_diagnosis'] = grouped_mean['visit_age']-grouped_mean['diagnosis_age']\n",
    "grouped_mean['male'] = grouped_mean['gender'].replace(['f','m'],[0,1])"
   ]
  },
  {
   "cell_type": "code",
   "execution_count": 4,
   "metadata": {},
   "outputs": [],
   "source": [
    "neuropsychiatric = ['stai_trait','stai_state','gds','quip']\n",
    "cognition = ['semantic_fluency','moca','benton','lns','hvlt_recall','hvlt_recognition','hvlt_retention','symbol_digit']\n",
    "autonome = ['epworth','rbd','systolic_bp_drop','scopa_aut']\n",
    "daily = ['se_adl','updrs_i']\n",
    "motor = ['updrs_ii','updrs_iii_OFF','updrs_iii_ON','updrs_iv']\n",
    "medication = ['LEDD']\n",
    "targets = np.hstack([motor,cognition,neuropsychiatric,autonome,daily,medication])\n",
    "covs = ['diagnosis_age','time_since_diagnosis','male']\n",
    "predictors = grouped_mean.filter(regex='(walking|step|efficiency|total_sleep|pulse|deep|light|rem|nrem|rmssd|wake)').columns\n",
    "sleep_col = grouped_mean.filter(regex='(efficiency|total_sleep|deep|light|rem|nrem|wake)').columns\n",
    "phys = grouped_mean.filter(regex='(walking|step)').columns\n",
    "vital = grouped_mean.filter(regex='(pulse|rmssd)').columns\n",
    "import re\n",
    "predictors_filt = [a for a in predictors if not re.search('_ms', a)]\n",
    "sleep_col = [a for a in sleep_col if not re.search('_ms', a)]\n",
    "phys = [a for a in phys if not re.search('_ms', a)]\n",
    "vital = [a for a in vital if not re.search('_ms', a)]"
   ]
  },
  {
   "cell_type": "markdown",
   "metadata": {},
   "source": [
    "# Run Regression"
   ]
  },
  {
   "cell_type": "code",
   "execution_count": 16,
   "metadata": {
    "collapsed": true,
    "jupyter": {
     "outputs_hidden": true
    },
    "tags": []
   },
   "outputs": [
    {
     "name": "stdout",
     "output_type": "stream",
     "text": [
      "Index(['sleep_efficiency', 'num_awakenings', 'total_sleep_time_hour',\n",
      "       'wake_after_sleep_onset_hour', 'total_nrem_time_hour',\n",
      "       'total_rem_time_hour', 'total_deep_nrem_time_hour',\n",
      "       'total_light_nrem_time_hour'],\n",
      "      dtype='object')\n",
      "['hourly_mean_pulse_rate' 'hourly_mean_rmssd' 'hourly_median_rmssd'\n",
      " 'hourly_rmssd_variance' 'hourly_step_count_sum' 'sum_walking_minutes']\n",
      "Folder '/scratch/c.c21013066/data/ppmi/analyses/predictclinical/updrs_ii/' already exists.\n",
      "(83, 59)\n",
      "failed plotting for  updrs_ii\n",
      "Index(['sleep_efficiency', 'num_awakenings', 'total_sleep_time_hour',\n",
      "       'wake_after_sleep_onset_hour', 'total_nrem_time_hour',\n",
      "       'total_rem_time_hour', 'total_deep_nrem_time_hour',\n",
      "       'total_light_nrem_time_hour'],\n",
      "      dtype='object')\n",
      "['hourly_mean_pulse_rate' 'hourly_mean_rmssd' 'hourly_median_rmssd'\n",
      " 'hourly_rmssd_variance' 'hourly_step_count_sum' 'sum_walking_minutes']\n",
      "Folder '/scratch/c.c21013066/data/ppmi/analyses/predictclinical/updrs_iii_OFF/' already exists.\n",
      "(69, 59)\n",
      "failed plotting for  updrs_iii_OFF\n",
      "Index(['sleep_efficiency', 'num_awakenings', 'total_sleep_time_hour',\n",
      "       'wake_after_sleep_onset_hour', 'total_nrem_time_hour',\n",
      "       'total_rem_time_hour', 'total_deep_nrem_time_hour',\n",
      "       'total_light_nrem_time_hour'],\n",
      "      dtype='object')\n",
      "['hourly_mean_pulse_rate' 'hourly_mean_rmssd' 'hourly_median_rmssd'\n",
      " 'hourly_rmssd_variance' 'hourly_step_count_sum' 'sum_walking_minutes']\n",
      "Folder '/scratch/c.c21013066/data/ppmi/analyses/predictclinical/updrs_iii_ON/' already exists.\n",
      "(79, 59)\n",
      "failed plotting for  updrs_iii_ON\n",
      "Index(['sleep_efficiency', 'num_awakenings', 'total_sleep_time_hour',\n",
      "       'wake_after_sleep_onset_hour', 'total_nrem_time_hour',\n",
      "       'total_rem_time_hour', 'total_deep_nrem_time_hour',\n",
      "       'total_light_nrem_time_hour'],\n",
      "      dtype='object')\n",
      "['hourly_mean_pulse_rate' 'hourly_mean_rmssd' 'hourly_median_rmssd'\n",
      " 'hourly_rmssd_variance' 'hourly_step_count_sum' 'sum_walking_minutes']\n",
      "Folder '/scratch/c.c21013066/data/ppmi/analyses/predictclinical/updrs_iv/' already exists.\n",
      "(81, 59)\n",
      "failed plotting for  updrs_iv\n",
      "Index(['sleep_efficiency', 'num_awakenings', 'total_sleep_time_hour',\n",
      "       'wake_after_sleep_onset_hour', 'total_nrem_time_hour',\n",
      "       'total_rem_time_hour', 'total_deep_nrem_time_hour',\n",
      "       'total_light_nrem_time_hour'],\n",
      "      dtype='object')\n",
      "['hourly_mean_pulse_rate' 'hourly_mean_rmssd' 'hourly_median_rmssd'\n",
      " 'hourly_rmssd_variance' 'hourly_step_count_sum' 'sum_walking_minutes']\n",
      "Folder '/scratch/c.c21013066/data/ppmi/analyses/predictclinical/semantic_fluency/' already exists.\n",
      "(72, 59)\n",
      "failed plotting for  semantic_fluency\n",
      "Index(['sleep_efficiency', 'num_awakenings', 'total_sleep_time_hour',\n",
      "       'wake_after_sleep_onset_hour', 'total_nrem_time_hour',\n",
      "       'total_rem_time_hour', 'total_deep_nrem_time_hour',\n",
      "       'total_light_nrem_time_hour'],\n",
      "      dtype='object')\n",
      "['hourly_mean_pulse_rate' 'hourly_mean_rmssd' 'hourly_median_rmssd'\n",
      " 'hourly_rmssd_variance' 'hourly_step_count_sum' 'sum_walking_minutes']\n",
      "Folder '/scratch/c.c21013066/data/ppmi/analyses/predictclinical/moca/' already exists.\n",
      "(71, 59)\n",
      "failed plotting for  moca\n",
      "Index(['sleep_efficiency', 'num_awakenings', 'total_sleep_time_hour',\n",
      "       'wake_after_sleep_onset_hour', 'total_nrem_time_hour',\n",
      "       'total_rem_time_hour', 'total_deep_nrem_time_hour',\n",
      "       'total_light_nrem_time_hour'],\n",
      "      dtype='object')\n",
      "['hourly_mean_pulse_rate' 'hourly_mean_rmssd' 'hourly_median_rmssd'\n",
      " 'hourly_rmssd_variance' 'hourly_step_count_sum' 'sum_walking_minutes']\n",
      "Folder '/scratch/c.c21013066/data/ppmi/analyses/predictclinical/benton/' already exists.\n",
      "(72, 59)\n",
      "failed plotting for  benton\n",
      "Index(['sleep_efficiency', 'num_awakenings', 'total_sleep_time_hour',\n",
      "       'wake_after_sleep_onset_hour', 'total_nrem_time_hour',\n",
      "       'total_rem_time_hour', 'total_deep_nrem_time_hour',\n",
      "       'total_light_nrem_time_hour'],\n",
      "      dtype='object')\n",
      "['hourly_mean_pulse_rate' 'hourly_mean_rmssd' 'hourly_median_rmssd'\n",
      " 'hourly_rmssd_variance' 'hourly_step_count_sum' 'sum_walking_minutes']\n",
      "Folder '/scratch/c.c21013066/data/ppmi/analyses/predictclinical/lns/' already exists.\n",
      "(72, 59)\n",
      "failed plotting for  lns\n",
      "Index(['sleep_efficiency', 'num_awakenings', 'total_sleep_time_hour',\n",
      "       'wake_after_sleep_onset_hour', 'total_nrem_time_hour',\n",
      "       'total_rem_time_hour', 'total_deep_nrem_time_hour',\n",
      "       'total_light_nrem_time_hour'],\n",
      "      dtype='object')\n",
      "['hourly_mean_pulse_rate' 'hourly_mean_rmssd' 'hourly_median_rmssd'\n",
      " 'hourly_rmssd_variance' 'hourly_step_count_sum' 'sum_walking_minutes']\n",
      "Folder '/scratch/c.c21013066/data/ppmi/analyses/predictclinical/hvlt_recall/' already exists.\n",
      "(72, 59)\n",
      "failed plotting for  hvlt_recall\n",
      "Index(['sleep_efficiency', 'num_awakenings', 'total_sleep_time_hour',\n",
      "       'wake_after_sleep_onset_hour', 'total_nrem_time_hour',\n",
      "       'total_rem_time_hour', 'total_deep_nrem_time_hour',\n",
      "       'total_light_nrem_time_hour'],\n",
      "      dtype='object')\n",
      "['hourly_mean_pulse_rate' 'hourly_mean_rmssd' 'hourly_median_rmssd'\n",
      " 'hourly_rmssd_variance' 'hourly_step_count_sum' 'sum_walking_minutes']\n",
      "Folder '/scratch/c.c21013066/data/ppmi/analyses/predictclinical/hvlt_recognition/' already exists.\n",
      "(72, 59)\n",
      "failed plotting for  hvlt_recognition\n",
      "Index(['sleep_efficiency', 'num_awakenings', 'total_sleep_time_hour',\n",
      "       'wake_after_sleep_onset_hour', 'total_nrem_time_hour',\n",
      "       'total_rem_time_hour', 'total_deep_nrem_time_hour',\n",
      "       'total_light_nrem_time_hour'],\n",
      "      dtype='object')\n",
      "['hourly_mean_pulse_rate' 'hourly_mean_rmssd' 'hourly_median_rmssd'\n",
      " 'hourly_rmssd_variance' 'hourly_step_count_sum' 'sum_walking_minutes']\n",
      "Folder '/scratch/c.c21013066/data/ppmi/analyses/predictclinical/hvlt_retention/' already exists.\n",
      "(72, 59)\n",
      "failed plotting for  hvlt_retention\n",
      "Index(['sleep_efficiency', 'num_awakenings', 'total_sleep_time_hour',\n",
      "       'wake_after_sleep_onset_hour', 'total_nrem_time_hour',\n",
      "       'total_rem_time_hour', 'total_deep_nrem_time_hour',\n",
      "       'total_light_nrem_time_hour'],\n",
      "      dtype='object')\n",
      "['hourly_mean_pulse_rate' 'hourly_mean_rmssd' 'hourly_median_rmssd'\n",
      " 'hourly_rmssd_variance' 'hourly_step_count_sum' 'sum_walking_minutes']\n",
      "Folder '/scratch/c.c21013066/data/ppmi/analyses/predictclinical/symbol_digit/' already exists.\n",
      "(72, 59)\n",
      "failed plotting for  symbol_digit\n",
      "Index(['sleep_efficiency', 'num_awakenings', 'total_sleep_time_hour',\n",
      "       'wake_after_sleep_onset_hour', 'total_nrem_time_hour',\n",
      "       'total_rem_time_hour', 'total_deep_nrem_time_hour',\n",
      "       'total_light_nrem_time_hour'],\n",
      "      dtype='object')\n",
      "['hourly_mean_pulse_rate' 'hourly_mean_rmssd' 'hourly_median_rmssd'\n",
      " 'hourly_rmssd_variance' 'hourly_step_count_sum' 'sum_walking_minutes']\n",
      "Folder '/scratch/c.c21013066/data/ppmi/analyses/predictclinical/stai_trait/' already exists.\n",
      "(73, 59)\n",
      "failed plotting for  stai_trait\n",
      "Index(['sleep_efficiency', 'num_awakenings', 'total_sleep_time_hour',\n",
      "       'wake_after_sleep_onset_hour', 'total_nrem_time_hour',\n",
      "       'total_rem_time_hour', 'total_deep_nrem_time_hour',\n",
      "       'total_light_nrem_time_hour'],\n",
      "      dtype='object')\n",
      "['hourly_mean_pulse_rate' 'hourly_mean_rmssd' 'hourly_median_rmssd'\n",
      " 'hourly_rmssd_variance' 'hourly_step_count_sum' 'sum_walking_minutes']\n",
      "Folder '/scratch/c.c21013066/data/ppmi/analyses/predictclinical/stai_state/' already exists.\n",
      "(73, 59)\n",
      "failed plotting for  stai_state\n",
      "Index(['sleep_efficiency', 'num_awakenings', 'total_sleep_time_hour',\n",
      "       'wake_after_sleep_onset_hour', 'total_nrem_time_hour',\n",
      "       'total_rem_time_hour', 'total_deep_nrem_time_hour',\n",
      "       'total_light_nrem_time_hour'],\n",
      "      dtype='object')\n",
      "['hourly_mean_pulse_rate' 'hourly_mean_rmssd' 'hourly_median_rmssd'\n",
      " 'hourly_rmssd_variance' 'hourly_step_count_sum' 'sum_walking_minutes']\n",
      "Folder '/scratch/c.c21013066/data/ppmi/analyses/predictclinical/gds/' already exists.\n",
      "(73, 59)\n",
      "failed plotting for  gds\n",
      "Index(['sleep_efficiency', 'num_awakenings', 'total_sleep_time_hour',\n",
      "       'wake_after_sleep_onset_hour', 'total_nrem_time_hour',\n",
      "       'total_rem_time_hour', 'total_deep_nrem_time_hour',\n",
      "       'total_light_nrem_time_hour'],\n",
      "      dtype='object')\n",
      "['hourly_mean_pulse_rate' 'hourly_mean_rmssd' 'hourly_median_rmssd'\n",
      " 'hourly_rmssd_variance' 'hourly_step_count_sum' 'sum_walking_minutes']\n",
      "Folder '/scratch/c.c21013066/data/ppmi/analyses/predictclinical/quip/' already exists.\n",
      "(73, 59)\n",
      "failed plotting for  quip\n",
      "Index(['sleep_efficiency', 'num_awakenings', 'total_sleep_time_hour',\n",
      "       'wake_after_sleep_onset_hour', 'total_nrem_time_hour',\n",
      "       'total_rem_time_hour', 'total_deep_nrem_time_hour',\n",
      "       'total_light_nrem_time_hour'],\n",
      "      dtype='object')\n",
      "['hourly_mean_pulse_rate' 'hourly_mean_rmssd' 'hourly_median_rmssd'\n",
      " 'hourly_rmssd_variance' 'hourly_step_count_sum' 'sum_walking_minutes']\n",
      "Folder '/scratch/c.c21013066/data/ppmi/analyses/predictclinical/epworth/' already exists.\n",
      "(73, 59)\n",
      "failed plotting for  epworth\n",
      "Index(['sleep_efficiency', 'num_awakenings', 'total_sleep_time_hour',\n",
      "       'wake_after_sleep_onset_hour', 'total_nrem_time_hour',\n",
      "       'total_rem_time_hour', 'total_deep_nrem_time_hour',\n",
      "       'total_light_nrem_time_hour'],\n",
      "      dtype='object')\n",
      "['hourly_mean_pulse_rate' 'hourly_mean_rmssd' 'hourly_median_rmssd'\n",
      " 'hourly_rmssd_variance' 'hourly_step_count_sum' 'sum_walking_minutes']\n",
      "Folder '/scratch/c.c21013066/data/ppmi/analyses/predictclinical/rbd/' already exists.\n",
      "(73, 59)\n",
      "failed plotting for  rbd\n",
      "Index(['sleep_efficiency', 'num_awakenings', 'total_sleep_time_hour',\n",
      "       'wake_after_sleep_onset_hour', 'total_nrem_time_hour',\n",
      "       'total_rem_time_hour', 'total_deep_nrem_time_hour',\n",
      "       'total_light_nrem_time_hour'],\n",
      "      dtype='object')\n",
      "['hourly_mean_pulse_rate' 'hourly_mean_rmssd' 'hourly_median_rmssd'\n",
      " 'hourly_rmssd_variance' 'hourly_step_count_sum' 'sum_walking_minutes']\n",
      "Folder '/scratch/c.c21013066/data/ppmi/analyses/predictclinical/systolic_bp_drop/' already exists.\n",
      "(82, 59)\n",
      "failed plotting for  systolic_bp_drop\n",
      "Index(['sleep_efficiency', 'num_awakenings', 'total_sleep_time_hour',\n",
      "       'wake_after_sleep_onset_hour', 'total_nrem_time_hour',\n",
      "       'total_rem_time_hour', 'total_deep_nrem_time_hour',\n",
      "       'total_light_nrem_time_hour'],\n",
      "      dtype='object')\n",
      "['hourly_mean_pulse_rate' 'hourly_mean_rmssd' 'hourly_median_rmssd'\n",
      " 'hourly_rmssd_variance' 'hourly_step_count_sum' 'sum_walking_minutes']\n",
      "Folder '/scratch/c.c21013066/data/ppmi/analyses/predictclinical/scopa_aut/' already exists.\n",
      "(73, 59)\n",
      "failed plotting for  scopa_aut\n",
      "Index(['sleep_efficiency', 'num_awakenings', 'total_sleep_time_hour',\n",
      "       'wake_after_sleep_onset_hour', 'total_nrem_time_hour',\n",
      "       'total_rem_time_hour', 'total_deep_nrem_time_hour',\n",
      "       'total_light_nrem_time_hour'],\n",
      "      dtype='object')\n",
      "['hourly_mean_pulse_rate' 'hourly_mean_rmssd' 'hourly_median_rmssd'\n",
      " 'hourly_rmssd_variance' 'hourly_step_count_sum' 'sum_walking_minutes']\n",
      "Folder '/scratch/c.c21013066/data/ppmi/analyses/predictclinical/se_adl/' already exists.\n",
      "(83, 59)\n"
     ]
    },
    {
     "name": "stderr",
     "output_type": "stream",
     "text": [
      "../scripts/plots.py:31: RuntimeWarning: More than 20 figures have been opened. Figures created through the pyplot interface (`matplotlib.pyplot.figure`) are retained until explicitly closed and may consume too much memory. (To control this warning, see the rcParam `figure.max_open_warning`).\n",
      "  fig = plt.figure(figsize=(10,10))\n"
     ]
    },
    {
     "name": "stdout",
     "output_type": "stream",
     "text": [
      "failed plotting for  se_adl\n",
      "Index(['sleep_efficiency', 'num_awakenings', 'total_sleep_time_hour',\n",
      "       'wake_after_sleep_onset_hour', 'total_nrem_time_hour',\n",
      "       'total_rem_time_hour', 'total_deep_nrem_time_hour',\n",
      "       'total_light_nrem_time_hour'],\n",
      "      dtype='object')\n",
      "['hourly_mean_pulse_rate' 'hourly_mean_rmssd' 'hourly_median_rmssd'\n",
      " 'hourly_rmssd_variance' 'hourly_step_count_sum' 'sum_walking_minutes']\n",
      "Folder '/scratch/c.c21013066/data/ppmi/analyses/predictclinical/updrs_i/' already exists.\n",
      "(83, 59)\n",
      "failed plotting for  updrs_i\n",
      "Index(['sleep_efficiency', 'num_awakenings', 'total_sleep_time_hour',\n",
      "       'wake_after_sleep_onset_hour', 'total_nrem_time_hour',\n",
      "       'total_rem_time_hour', 'total_deep_nrem_time_hour',\n",
      "       'total_light_nrem_time_hour'],\n",
      "      dtype='object')\n",
      "['hourly_mean_pulse_rate' 'hourly_mean_rmssd' 'hourly_median_rmssd'\n",
      " 'hourly_rmssd_variance' 'hourly_step_count_sum' 'sum_walking_minutes']\n",
      "Folder '/scratch/c.c21013066/data/ppmi/analyses/predictclinical/LEDD/' already exists.\n",
      "(83, 59)\n",
      "failed plotting for  LEDD\n"
     ]
    },
    {
     "data": {
      "text/plain": [
       "<Figure size 720x720 with 0 Axes>"
      ]
     },
     "metadata": {},
     "output_type": "display_data"
    },
    {
     "data": {
      "text/plain": [
       "<Figure size 720x720 with 0 Axes>"
      ]
     },
     "metadata": {},
     "output_type": "display_data"
    },
    {
     "data": {
      "text/plain": [
       "<Figure size 720x720 with 0 Axes>"
      ]
     },
     "metadata": {},
     "output_type": "display_data"
    },
    {
     "data": {
      "text/plain": [
       "<Figure size 720x720 with 0 Axes>"
      ]
     },
     "metadata": {},
     "output_type": "display_data"
    },
    {
     "data": {
      "text/plain": [
       "<Figure size 720x720 with 0 Axes>"
      ]
     },
     "metadata": {},
     "output_type": "display_data"
    },
    {
     "data": {
      "text/plain": [
       "<Figure size 720x720 with 0 Axes>"
      ]
     },
     "metadata": {},
     "output_type": "display_data"
    },
    {
     "data": {
      "text/plain": [
       "<Figure size 720x720 with 0 Axes>"
      ]
     },
     "metadata": {},
     "output_type": "display_data"
    },
    {
     "data": {
      "text/plain": [
       "<Figure size 720x720 with 0 Axes>"
      ]
     },
     "metadata": {},
     "output_type": "display_data"
    },
    {
     "data": {
      "text/plain": [
       "<Figure size 720x720 with 0 Axes>"
      ]
     },
     "metadata": {},
     "output_type": "display_data"
    },
    {
     "data": {
      "text/plain": [
       "<Figure size 720x720 with 0 Axes>"
      ]
     },
     "metadata": {},
     "output_type": "display_data"
    },
    {
     "data": {
      "text/plain": [
       "<Figure size 720x720 with 0 Axes>"
      ]
     },
     "metadata": {},
     "output_type": "display_data"
    },
    {
     "data": {
      "text/plain": [
       "<Figure size 720x720 with 0 Axes>"
      ]
     },
     "metadata": {},
     "output_type": "display_data"
    },
    {
     "data": {
      "text/plain": [
       "<Figure size 720x720 with 0 Axes>"
      ]
     },
     "metadata": {},
     "output_type": "display_data"
    },
    {
     "data": {
      "text/plain": [
       "<Figure size 720x720 with 0 Axes>"
      ]
     },
     "metadata": {},
     "output_type": "display_data"
    },
    {
     "data": {
      "text/plain": [
       "<Figure size 720x720 with 0 Axes>"
      ]
     },
     "metadata": {},
     "output_type": "display_data"
    },
    {
     "data": {
      "text/plain": [
       "<Figure size 720x720 with 0 Axes>"
      ]
     },
     "metadata": {},
     "output_type": "display_data"
    },
    {
     "data": {
      "text/plain": [
       "<Figure size 720x720 with 0 Axes>"
      ]
     },
     "metadata": {},
     "output_type": "display_data"
    },
    {
     "data": {
      "text/plain": [
       "<Figure size 720x720 with 0 Axes>"
      ]
     },
     "metadata": {},
     "output_type": "display_data"
    },
    {
     "data": {
      "text/plain": [
       "<Figure size 720x720 with 0 Axes>"
      ]
     },
     "metadata": {},
     "output_type": "display_data"
    },
    {
     "data": {
      "text/plain": [
       "<Figure size 720x720 with 0 Axes>"
      ]
     },
     "metadata": {},
     "output_type": "display_data"
    },
    {
     "data": {
      "text/plain": [
       "<Figure size 720x720 with 0 Axes>"
      ]
     },
     "metadata": {},
     "output_type": "display_data"
    },
    {
     "data": {
      "text/plain": [
       "<Figure size 720x720 with 0 Axes>"
      ]
     },
     "metadata": {},
     "output_type": "display_data"
    },
    {
     "data": {
      "text/plain": [
       "<Figure size 720x720 with 0 Axes>"
      ]
     },
     "metadata": {},
     "output_type": "display_data"
    }
   ],
   "source": [
    "reload(predict_regress)\n",
    "reload(plots)\n",
    "\n",
    "for target in targets:\n",
    "    clean = grouped_mean.dropna(subset=np.hstack([target,covs]))\n",
    "    # remove any predictors where more than 5% missing\n",
    "    missing_percentages = clean[predictors_filt].isnull().sum() / len(clean) * 100\n",
    "    columns_to_remove = missing_percentages[missing_percentages > 5].index\n",
    "    print(columns_to_remove)\n",
    "    preds = np.setdiff1d(predictors_filt,columns_to_remove)\n",
    "    print(preds)\n",
    "    clean = clean.drop(columns=columns_to_remove)\n",
    "    clean = clean.dropna(subset=preds)\n",
    "    clean = clean.reset_index(drop=True)\n",
    "    folder_path = f'/scratch/c.c21013066/data/ppmi/analyses/predictclinical/{target}/'\n",
    "    if not os.path.exists(folder_path):\n",
    "        os.makedirs(folder_path)\n",
    "    else:\n",
    "        print(f\"Folder '{folder_path}' already exists.\")\n",
    "    print(clean.shape)\n",
    "    coefs,cl = predict_regress.run_regression(clean,preds,covs,target,\n",
    "                                           save=folder_path)"
   ]
  }
 ],
 "metadata": {
  "kernelspec": {
   "display_name": "Python 3",
   "language": "python",
   "name": "python3"
  },
  "language_info": {
   "codemirror_mode": {
    "name": "ipython",
    "version": 3
   },
   "file_extension": ".py",
   "mimetype": "text/x-python",
   "name": "python",
   "nbconvert_exporter": "python",
   "pygments_lexer": "ipython3",
   "version": "3.6.8"
  }
 },
 "nbformat": 4,
 "nbformat_minor": 5
}
