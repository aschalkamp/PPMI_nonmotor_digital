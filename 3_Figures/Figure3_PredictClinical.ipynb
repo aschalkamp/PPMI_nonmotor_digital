{
 "cells": [
  {
   "cell_type": "code",
   "execution_count": null,
   "metadata": {},
   "outputs": [],
   "source": [
    "import numpy as np\n",
    "import pandas as pd\n",
    "from scipy import stats\n",
    "\n",
    "import pylab as plt\n",
    "import seaborn as sns\n",
    "import matplotlib.patches as mpatches\n",
    "\n",
    "from importlib import reload\n",
    "import os\n",
    "import re\n",
    "\n",
    "import sys\n",
    "sys.path.insert(1,'../scripts')\n",
    "import utils\n",
    "import plots\n",
    "import predict_regress"
   ]
  },
  {
   "cell_type": "code",
   "execution_count": null,
   "metadata": {},
   "outputs": [],
   "source": [
    "neuropsychiatric = ['stai_trait','stai_state','gds','quip']\n",
    "cognition = ['semantic_fluency','moca','benton','lns','hvlt_recall','hvlt_recognition','hvlt_retention','symbol_digit']\n",
    "autonome = ['epworth','rbd','systolic_bp_drop','scopa_aut']\n",
    "daily = ['se_adl','updrs_i']\n",
    "motor = ['updrs_ii','updrs_iii_OFF','updrs_iii_ON','updrs_iv']\n",
    "medication = ['LEDD']\n",
    "targets = np.hstack([motor,cognition,neuropsychiatric,autonome,daily,medication])\n",
    "covs = ['diagnosis_age','time_since_diagnosis','male']\n",
    "grouped_mean = pd.read_csv('/scratch/c.c21013066/data/ppmi/accelerometer/weekly_mean.csv',parse_dates=['date_y'])\n",
    "predictors = grouped_mean.filter(regex='(walking|step|efficiency|total_sleep|pulse|deep|light|rem|nrem|rmssd|wake)').columns"
   ]
  },
  {
   "cell_type": "markdown",
   "metadata": {},
   "source": [
    "# Performance plot"
   ]
  },
  {
   "cell_type": "code",
   "execution_count": null,
   "metadata": {},
   "outputs": [],
   "source": [
    "sign = pd.DataFrame(columns=['t','p-value','sign'], index=targets)\n",
    "scores = pd.DataFrame(columns=['r2','baseline'],index=pd.MultiIndex.from_product([targets,np.arange(5)],names=['clinical','cv']))\n",
    "for i,t in enumerate(targets):\n",
    "    score = pd.read_csv(f'/scratch/c.c21013066/data/ppmi/analyses/predictclinical/{t}/test_scores.csv',index_col=0)\n",
    "    scores.loc[(t,slice(None)),'r2'] = score.values\n",
    "    score = pd.read_csv(f'/scratch/c.c21013066/data/ppmi/analyses/predictclinical/{t}/baseline/test_scores.csv',index_col=0)\n",
    "    scores.loc[(t,slice(None)),'baseline'] = score.values\n",
    "    sign.loc[t,['t','p-value']] = stats.ttest_ind(scores.loc[(t,slice(None)),'r2'].astype(float),scores.loc[(t,slice(None)),'baseline'].astype(float))\n",
    "sign['sign'] = sign['p-value'] < 0.05\n",
    "sign['sign'] = sign['sign'].replace([True,False],['*',''])\n",
    "scores = scores.astype(float)"
   ]
  },
  {
   "cell_type": "code",
   "execution_count": null,
   "metadata": {},
   "outputs": [],
   "source": [
    "order = np.hstack([autonome,cognition,neuropsychiatric,daily,motor,medication])\n",
    "cl_names = ['ESS', 'RBDSQ', 'Systolic BP Drop', 'SCOPA autonome','Semantic Fluency', 'MOCA', 'Benton',\n",
    "       'Letter Number Sequencing', 'HVLT Recall', 'HVLT Recognition', 'HVLT Retention',\n",
    "       'Symbol Digit', 'STAI trait', 'STAI state', 'GDS', 'QUIP',\n",
    "       'Schwab England ADL', 'UPDRS I','UPDRS II','UPDRS III OFF', 'LEDD','UPDRS III ON','UPDRS IV']\n",
    "color_map = dict(zip(['motor','cognition','psychiatric','autonomic','daily','medication','physical activity','sleep','vital signs'],\n",
    "                     sns.color_palette('deep')))\n",
    "labels = pd.Series(np.hstack([np.repeat('autonomic',4),np.repeat('cognition',8),np.repeat('psychiatric',4),np.repeat('daily',2),np.repeat('motor',2),\n",
    "                              np.repeat('medication',3)]),index=order)"
   ]
  },
  {
   "cell_type": "code",
   "execution_count": null,
   "metadata": {},
   "outputs": [],
   "source": [
    "fig = plt.figure(figsize=(5,8))\n",
    "plots.plot_context()\n",
    "clean = scores.astype(float).reset_index()\n",
    "ax = sns.barplot(y='clinical',x='r2',data=scores.reset_index(),order=order,palette=labels.map(color_map))\n",
    "b = sns.barplot(y='clinical',x='baseline',data=scores.reset_index(),order=order,color='gray',alpha=0.3)\n",
    "ax.set_yticklabels(cl_names)\n",
    "\n",
    "for i, bar in enumerate(ax.patches[:23]):\n",
    "    color = bar.get_facecolor()\n",
    "    ax.get_yticklabels()[i].set_color(color)\n",
    "ax.set_ylabel('')\n",
    "ax.set_xlabel('R2')\n",
    "\n",
    "patches = b.patches\n",
    "lines_per_err = 3\n",
    "\n",
    "for i, line in enumerate(b.get_lines()):\n",
    "    if i>len(order)-1:\n",
    "        line.set_color('gray')\n",
    "        line.set_alpha(0.3)\n",
    "        \n",
    "mean = scores.groupby('clinical',sort=False)['r2'].mean()[order]\n",
    "for i,(key,row) in enumerate(sign.loc[order].iterrows()):\n",
    "    if row['sign']=='*':\n",
    "        ax.text(mean.iloc[i]+0.06,i+0.4, \"*\", ha='center', va='bottom', fontsize=12)\n",
    "        \n",
    "# Create legend handles and labels based on the filtered color_map\n",
    "legend_handles = [mpatches.Patch(color=color, label=label) for (label, color),i in zip(color_map.items(),np.arange(6))]\n",
    "ax.legend(handles=legend_handles, bbox_to_anchor=(1,1))\n",
    "        \n",
    "\n",
    "plt.savefig(f'/scratch/c.c21013066/images/paper/digitalPPMI/performance_regression_clinical.png',dpi=300,bbox_inches='tight')\n",
    "plt.savefig(f'/scratch/c.c21013066/images/paper/digitalPPMI/performance_regression_clinical.pdf',dpi=300,bbox_inches='tight')"
   ]
  },
  {
   "cell_type": "markdown",
   "metadata": {},
   "source": [
    "# Coefficient Plot"
   ]
  },
  {
   "cell_type": "code",
   "execution_count": null,
   "metadata": {},
   "outputs": [],
   "source": [
    "#coefs plot\n",
    "coefs = pd.DataFrame(columns=targets,index=pd.MultiIndex.from_product([np.hstack([preds,covs,'intercept']),np.arange(5)],names=['digital','cv']))\n",
    "for i,t in enumerate(targets):\n",
    "    cfs = pd.read_csv(f'/scratch/c.c21013066/data/ppmi/analyses/predictclinical/{t}/coefs.csv',index_col=0)\n",
    "    for cv in np.arange(5):\n",
    "        coefs.loc[(np.hstack([preds,covs,'intercept']),cv),t] = cfs.loc[cfs['cv']==cv,'coef'].values\n",
    "        \n",
    "mean_coefs = coefs.astype(float).groupby('digital',sort=False).mean().loc[np.hstack([preds,covs,'intercept'])]\n",
    "std_coefs = coefs.astype(float).groupby('digital',sort=False).std().loc[np.hstack([preds,covs,'intercept'])]\n",
    "sign_coefs = (np.abs(mean_coefs) - 3*std_coefs)>0\n",
    "sign_coefs = sign_coefs.replace([True,False],['*',''])"
   ]
  },
  {
   "cell_type": "code",
   "execution_count": null,
   "metadata": {},
   "outputs": [],
   "source": [
    "fig = plt.figure(figsize=(10,5))\n",
    "plots.plot_context()\n",
    "ax = sns.heatmap(mean_coefs,annot=sign_coefs,fmt='',cmap='coolwarm',center=0,cbar_kws={'label': 'coefficient'})\n",
    "ax.set_xticklabels(cl_names);\n",
    "ax.set_ylabel('');\n",
    "\n",
    "plt.savefig(f'/scratch/c.c21013066/images/paper/digitalPPMI/coefs_regression_clinical.png',dpi=300,bbox_inches='tight')\n",
    "plt.savefig(f'/scratch/c.c21013066/images/paper/digitalPPMI/coefs_regression_clinical.pdf',dpi=300,bbox_inches='tight')"
   ]
  }
 ],
 "metadata": {
  "kernelspec": {
   "display_name": "Python 3",
   "language": "python",
   "name": "python3"
  },
  "language_info": {
   "codemirror_mode": {
    "name": "ipython",
    "version": 3
   },
   "file_extension": ".py",
   "mimetype": "text/x-python",
   "name": "python",
   "nbconvert_exporter": "python",
   "pygments_lexer": "ipython3",
   "version": "3.6.8"
  }
 },
 "nbformat": 4,
 "nbformat_minor": 2
}
