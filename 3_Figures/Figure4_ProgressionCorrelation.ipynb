{
 "cells": [
  {
   "cell_type": "code",
   "execution_count": null,
   "metadata": {},
   "outputs": [],
   "source": [
    "import pandas as pd\n",
    "import numpy as np\n",
    "from scipy import stats\n",
    "\n",
    "import seaborn as sns\n",
    "import pylab as plt\n",
    "\n",
    "import sys\n",
    "sys.path.insert(1,'../scripts')\n",
    "import plots"
   ]
  },
  {
   "cell_type": "code",
   "execution_count": null,
   "metadata": {},
   "outputs": [],
   "source": [
    "corr = pd.read_csv('/scratch/c.c21013066/data/ppmi/analyses/progression/consensuscohort/correlation_digital_clinical.csv',index_col=[0,1])\n",
    "corr.loc[corr['sign'].isna(),'sign'] = ''"
   ]
  },
  {
   "cell_type": "code",
   "execution_count": null,
   "metadata": {},
   "outputs": [],
   "source": [
    "fig = plt.figure(figsize=(10,5))\n",
    "plots.plot_context()\n",
    "#cbar_ax = fig.add_axes([1, .2, .01, .7])\n",
    "\n",
    "r = corr['pearson r'].unstack().astype(float)\n",
    "p = corr['sign'].unstack()\n",
    "g=sns.heatmap(r,cmap='coolwarm',center=0,xticklabels=True,yticklabels=True,annot=p,fmt='',cbar_kws={'label':'pearson r'},\n",
    "            vmin=-0.3, vmax=0.3)\n",
    "g.set_yticklabels(str(string).split(' ')[2][1:-11] for string in g.get_yticklabels())\n",
    "g.set_yticklabels(['autonomic','cognitive','daily','medication','motor','psychiatric'])\n",
    "g.set_xticklabels(np.arange(10),rotation=0)\n",
    "g.set_ylabel('clinical progression PC')\n",
    "g.set_xlabel('digital timeseries PC')\n",
    "plt.tight_layout()\n",
    "plt.savefig('/scratch/c.c21013066/images/ppmi/studywatch/digital_correlation_ClinialLmmSlope.png',dpi=300,bbox_inches='tight')\n",
    "plt.savefig('/scratch/c.c21013066/images/ppmi/studywatch/digital_correlation_ClinialLmmSlope.pdf',dpi=300,bbox_inches='tight')"
   ]
  }
 ],
 "metadata": {
  "kernelspec": {
   "display_name": "",
   "name": ""
  },
  "language_info": {
   "codemirror_mode": {
    "name": "ipython",
    "version": 3
   },
   "file_extension": ".py",
   "mimetype": "text/x-python",
   "name": "python",
   "nbconvert_exporter": "python",
   "pygments_lexer": "ipython3",
   "version": "3.6.8"
  }
 },
 "nbformat": 4,
 "nbformat_minor": 2
}
